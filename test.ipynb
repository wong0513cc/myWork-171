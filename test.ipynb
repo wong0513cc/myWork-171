{
 "cells": [
  {
   "cell_type": "code",
   "execution_count": null,
   "id": "092e20a9",
   "metadata": {},
   "outputs": [],
   "source": [
    "import numpy as np\n",
    "import pandas as pd\n",
    "import os\n",
    "\n",
    "price_path = \"\"\n",
    "finance_path = \"\"\n",
    "news_path = \"\"\n",
    "event_path = \"\""
   ]
  }
 ],
 "metadata": {
  "language_info": {
   "name": "python"
  }
 },
 "nbformat": 4,
 "nbformat_minor": 5
}
